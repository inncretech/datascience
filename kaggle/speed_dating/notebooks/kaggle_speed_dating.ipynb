{
 "cells": [
  {
   "cell_type": "code",
   "execution_count": 1,
   "metadata": {
    "collapsed": false
   },
   "outputs": [
    {
     "data": {
      "text/html": [
       "<h1>Speed Dating Problem</h1>"
      ],
      "text/plain": [
       "<IPython.core.display.HTML object>"
      ]
     },
     "metadata": {},
     "output_type": "display_data"
    }
   ],
   "source": [
    "%%HTML\n",
    "<h1>Speed Dating Problem</h1>"
   ]
  },
  {
   "cell_type": "code",
   "execution_count": 1,
   "metadata": {
    "collapsed": true
   },
   "outputs": [],
   "source": [
    "import os\n",
    "import time\n",
    "import numpy as np\n",
    "import pandas as pd\n",
    "import matplotlib.pyplot as plt\n",
    "from __future__ import division"
   ]
  },
  {
   "cell_type": "code",
   "execution_count": 135,
   "metadata": {
    "collapsed": false
   },
   "outputs": [],
   "source": [
    "df = pd.read_csv(\"data/Speed Dating Data.csv\")\n",
    "\n",
    "#Creating dummy columns -> \"Shared Interests\", question type 2 & 5, times T1, T2, T3\n",
    "\n",
    "cols = ['shar3_1', 'shar3_2', 'shar3_3', 'shar5_1', 'shar5_2', 'shar5_3']\n",
    "df = pd.concat([df, pd.DataFrame(columns=cols)])"
   ]
  },
  {
   "cell_type": "code",
   "execution_count": 3,
   "metadata": {
    "collapsed": false
   },
   "outputs": [],
   "source": [
    "#Filling NA values in the 'id' column\n",
    "#Every subject (denoted by their 'iid') has a unique 'id' value, which denotes their number within their wave.\n",
    "\n",
    "df['id'] = df[['iid', 'id']].groupby(['iid'])['id'].transform(lambda grp: grp.fillna(method='ffill'))"
   ]
  },
  {
   "cell_type": "code",
   "execution_count": 227,
   "metadata": {
    "collapsed": false
   },
   "outputs": [],
   "source": [
    "columns = ['iid', 'age', 'gender', 'field', 'field_cd', \n",
    "           'undergra', 'mn_sat', 'tuition', 'race', 'from', \n",
    "           'zipcode', 'income', 'career', 'career_c']\n",
    "\n",
    "df_bio1 = df[columns].drop_duplicates()"
   ]
  },
  {
   "cell_type": "code",
   "execution_count": 303,
   "metadata": {
    "collapsed": false,
    "scrolled": true
   },
   "outputs": [],
   "source": [
    "columns = ['iid', 'imprace', 'imprelig', 'goal', 'date',\n",
    "           'go_out', 'sports', 'tvsports', 'exercise', 'dining', \n",
    "           'museums', 'art', 'hiking', 'gaming', 'clubbing',\n",
    "           'reading', 'tv', 'theater', 'movies', 'concerts', \n",
    "           'music', 'shopping', 'yoga', 'exphappy', 'expnum',\n",
    "           'you_call', 'them_cal', 'date_3', 'numdat_3', 'num_in_3', \n",
    "           'satis_2', 'length', 'numdat_2']\n",
    "\n",
    "df_bio2 = df[columns].drop_duplicates()"
   ]
  },
  {
   "cell_type": "code",
   "execution_count": 229,
   "metadata": {
    "collapsed": false
   },
   "outputs": [],
   "source": [
    "# 1 - What do you look for in the opposite sex?\n",
    "# 2 - What do you think the opposite sex looks for in a date?\n",
    "# 3 - How do you think you measure up?\n",
    "# 4 - What do you think MOST of your fellow men/women look for in the opposite sex?\n",
    "# 5 - How do you think others perceive you? \n",
    "\n",
    "columns = ['iid',\n",
    "           'attr1_1', 'sinc1_1', 'intel1_1', 'fun1_1', 'amb1_1', 'shar1_1',\n",
    "           'attr2_1', 'sinc2_1', 'intel2_1', 'fun2_1', 'amb2_1', 'shar2_1',\n",
    "           'attr3_1', 'sinc3_1', 'intel3_1', 'fun3_1', 'amb3_1',\n",
    "           'attr4_1', 'sinc4_1', 'intel4_1', 'fun4_1', 'amb4_1', 'shar4_1',\n",
    "           'attr5_1', 'sinc5_1', 'intel5_1', 'fun5_1', 'amb5_1']\n",
    "\n",
    "df_exp1 = df[columns].drop_duplicates()"
   ]
  },
  {
   "cell_type": "code",
   "execution_count": 313,
   "metadata": {
    "collapsed": false
   },
   "outputs": [],
   "source": [
    "columns = ['iid', 'order', 'pid', 'partner', 'match', 'dec_o', 'dec', 'int_corr',\n",
    "           'samerace', 'age_o', 'race_o',\n",
    "           'attr_o', 'sinc_o', 'intel_o', 'fun_o', \n",
    "           'amb_o', 'shar_o', 'like_o', 'prob_o', 'met_o',\n",
    "           'like', 'prob', 'attr', 'sinc', \n",
    "           'intel', 'fun', 'amb', 'shar']\n",
    "\n",
    "\n",
    "df_dates = df[columns].drop_duplicates().sort_values(by=['iid', 'order', 'pid', 'partner'])       "
   ]
  },
  {
   "cell_type": "code",
   "execution_count": 334,
   "metadata": {
    "collapsed": false
   },
   "outputs": [
    {
     "data": {
      "text/plain": [
       "amb      13.703333\n",
       "attr     16.480000\n",
       "fun      17.406667\n",
       "intel    17.963333\n",
       "shar     15.556667\n",
       "sinc     18.890000\n",
       "dtype: float64"
      ]
     },
     "execution_count": 334,
     "metadata": {},
     "output_type": "execute_result"
    }
   ],
   "source": [
    "cols = ['amb', 'attr', 'fun', 'intel', 'shar', 'sinc']\n",
    "df2.loc[(df2.iid==1) & (df2.type==1)][cols].mean()"
   ]
  },
  {
   "cell_type": "code",
   "execution_count": 333,
   "metadata": {
    "collapsed": false
   },
   "outputs": [
    {
     "data": {
      "text/html": [
       "<div>\n",
       "<table border=\"1\" class=\"dataframe\">\n",
       "  <thead>\n",
       "    <tr style=\"text-align: right;\">\n",
       "      <th></th>\n",
       "      <th>pid</th>\n",
       "      <th>like</th>\n",
       "      <th>attr</th>\n",
       "      <th>sinc</th>\n",
       "      <th>intel</th>\n",
       "      <th>fun</th>\n",
       "      <th>amb</th>\n",
       "      <th>shar</th>\n",
       "    </tr>\n",
       "  </thead>\n",
       "  <tbody>\n",
       "    <tr>\n",
       "      <th>6</th>\n",
       "      <td>17.0</td>\n",
       "      <td>6.0</td>\n",
       "      <td>7.0</td>\n",
       "      <td>6.0</td>\n",
       "      <td>7.0</td>\n",
       "      <td>4.0</td>\n",
       "      <td>6.0</td>\n",
       "      <td>7.0</td>\n",
       "    </tr>\n",
       "    <tr>\n",
       "      <th>1</th>\n",
       "      <td>12.0</td>\n",
       "      <td>7.0</td>\n",
       "      <td>7.0</td>\n",
       "      <td>8.0</td>\n",
       "      <td>7.0</td>\n",
       "      <td>8.0</td>\n",
       "      <td>5.0</td>\n",
       "      <td>6.0</td>\n",
       "    </tr>\n",
       "    <tr>\n",
       "      <th>0</th>\n",
       "      <td>11.0</td>\n",
       "      <td>7.0</td>\n",
       "      <td>6.0</td>\n",
       "      <td>9.0</td>\n",
       "      <td>7.0</td>\n",
       "      <td>7.0</td>\n",
       "      <td>6.0</td>\n",
       "      <td>5.0</td>\n",
       "    </tr>\n",
       "    <tr>\n",
       "      <th>3</th>\n",
       "      <td>14.0</td>\n",
       "      <td>7.0</td>\n",
       "      <td>7.0</td>\n",
       "      <td>6.0</td>\n",
       "      <td>8.0</td>\n",
       "      <td>7.0</td>\n",
       "      <td>6.0</td>\n",
       "      <td>8.0</td>\n",
       "    </tr>\n",
       "    <tr>\n",
       "      <th>4</th>\n",
       "      <td>15.0</td>\n",
       "      <td>6.0</td>\n",
       "      <td>5.0</td>\n",
       "      <td>6.0</td>\n",
       "      <td>7.0</td>\n",
       "      <td>7.0</td>\n",
       "      <td>6.0</td>\n",
       "      <td>6.0</td>\n",
       "    </tr>\n",
       "    <tr>\n",
       "      <th>8</th>\n",
       "      <td>19.0</td>\n",
       "      <td>7.0</td>\n",
       "      <td>7.0</td>\n",
       "      <td>6.0</td>\n",
       "      <td>8.0</td>\n",
       "      <td>9.0</td>\n",
       "      <td>8.0</td>\n",
       "      <td>8.0</td>\n",
       "    </tr>\n",
       "    <tr>\n",
       "      <th>9</th>\n",
       "      <td>20.0</td>\n",
       "      <td>6.0</td>\n",
       "      <td>5.0</td>\n",
       "      <td>6.0</td>\n",
       "      <td>6.0</td>\n",
       "      <td>8.0</td>\n",
       "      <td>10.0</td>\n",
       "      <td>8.0</td>\n",
       "    </tr>\n",
       "    <tr>\n",
       "      <th>2</th>\n",
       "      <td>13.0</td>\n",
       "      <td>7.0</td>\n",
       "      <td>5.0</td>\n",
       "      <td>8.0</td>\n",
       "      <td>9.0</td>\n",
       "      <td>8.0</td>\n",
       "      <td>5.0</td>\n",
       "      <td>7.0</td>\n",
       "    </tr>\n",
       "  </tbody>\n",
       "</table>\n",
       "</div>"
      ],
      "text/plain": [
       "    pid  like  attr  sinc  intel  fun   amb  shar\n",
       "6  17.0   6.0   7.0   6.0    7.0  4.0   6.0   7.0\n",
       "1  12.0   7.0   7.0   8.0    7.0  8.0   5.0   6.0\n",
       "0  11.0   7.0   6.0   9.0    7.0  7.0   6.0   5.0\n",
       "3  14.0   7.0   7.0   6.0    8.0  7.0   6.0   8.0\n",
       "4  15.0   6.0   5.0   6.0    7.0  7.0   6.0   6.0\n",
       "8  19.0   7.0   7.0   6.0    8.0  9.0   8.0   8.0\n",
       "9  20.0   6.0   5.0   6.0    6.0  8.0  10.0   8.0\n",
       "2  13.0   7.0   5.0   8.0    9.0  8.0   5.0   7.0"
      ]
     },
     "execution_count": 333,
     "metadata": {},
     "output_type": "execute_result"
    }
   ],
   "source": [
    "df_dates.loc[df_dates.iid==1][['iid', 'pid', 'dec', 'dec_o', 'match', 'like']]\n",
    "\n",
    "df_dates.loc[(df_dates.iid==1)&(df_dates.dec==1)][['pid','like','attr','sinc','intel','fun','amb','shar']]"
   ]
  },
  {
   "cell_type": "code",
   "execution_count": 240,
   "metadata": {
    "collapsed": false
   },
   "outputs": [],
   "source": [
    "times = range(1, 4)\n",
    "types = range(1, 6)\n",
    "rows = list()\n",
    "\n",
    "for iid in df['iid'].drop_duplicates():\n",
    "    record = df.loc[df.iid==iid].head(1)\n",
    "    for _time in times:\n",
    "        t1 = str(_time)\n",
    "        for _type in types:\n",
    "            t2 = str(_type)\n",
    "            rows.append({\n",
    "                    'iid':iid, \n",
    "                    'gender':record['gender'].values[0],\n",
    "                    'race': record['race'].values[0],\n",
    "                    'wave': record['wave'].values[0],\n",
    "                    'time':_time, \n",
    "                    'type':_type, \n",
    "                    'attr':record['attr'+t2+\"_\"+t1].values[0],\n",
    "                    'sinc':record['sinc'+t2+\"_\"+t1].values[0],\n",
    "                    'intel':record['intel'+t2+\"_\"+t1].values[0],\n",
    "                    'fun':record['fun'+t2+\"_\"+t1].values[0],\n",
    "                    'amb':record['amb'+t2+\"_\"+t1].values[0],\n",
    "                    'shar':record['shar'+t2+\"_\"+t1].values[0]})\n",
    "                     \n",
    "df2 = pd.DataFrame(rows)"
   ]
  },
  {
   "cell_type": "code",
   "execution_count": 312,
   "metadata": {
    "collapsed": false
   },
   "outputs": [
    {
     "data": {
      "text/html": [
       "<div>\n",
       "<table border=\"1\" class=\"dataframe\">\n",
       "  <thead>\n",
       "    <tr style=\"text-align: right;\">\n",
       "      <th></th>\n",
       "      <th></th>\n",
       "      <th>amb</th>\n",
       "      <th>attr</th>\n",
       "      <th>fun</th>\n",
       "      <th>intel</th>\n",
       "      <th>shar</th>\n",
       "      <th>sinc</th>\n",
       "    </tr>\n",
       "    <tr>\n",
       "      <th>type</th>\n",
       "      <th>gender</th>\n",
       "      <th></th>\n",
       "      <th></th>\n",
       "      <th></th>\n",
       "      <th></th>\n",
       "      <th></th>\n",
       "      <th></th>\n",
       "    </tr>\n",
       "  </thead>\n",
       "  <tbody>\n",
       "    <tr>\n",
       "      <th rowspan=\"2\" valign=\"top\">1</th>\n",
       "      <th>0.0</th>\n",
       "      <td>12.77</td>\n",
       "      <td>16.98</td>\n",
       "      <td>17.31</td>\n",
       "      <td>20.00</td>\n",
       "      <td>15.000</td>\n",
       "      <td>18.00</td>\n",
       "    </tr>\n",
       "    <tr>\n",
       "      <th>1.0</th>\n",
       "      <td>10.00</td>\n",
       "      <td>25.00</td>\n",
       "      <td>18.00</td>\n",
       "      <td>20.00</td>\n",
       "      <td>10.000</td>\n",
       "      <td>16.28</td>\n",
       "    </tr>\n",
       "    <tr>\n",
       "      <th rowspan=\"2\" valign=\"top\">2</th>\n",
       "      <th>0.0</th>\n",
       "      <td>10.00</td>\n",
       "      <td>30.00</td>\n",
       "      <td>20.00</td>\n",
       "      <td>10.00</td>\n",
       "      <td>14.645</td>\n",
       "      <td>10.00</td>\n",
       "    </tr>\n",
       "    <tr>\n",
       "      <th>1.0</th>\n",
       "      <td>15.00</td>\n",
       "      <td>20.00</td>\n",
       "      <td>17.78</td>\n",
       "      <td>15.47</td>\n",
       "      <td>10.000</td>\n",
       "      <td>15.00</td>\n",
       "    </tr>\n",
       "    <tr>\n",
       "      <th rowspan=\"2\" valign=\"top\">3</th>\n",
       "      <th>0.0</th>\n",
       "      <td>8.00</td>\n",
       "      <td>7.00</td>\n",
       "      <td>8.00</td>\n",
       "      <td>8.00</td>\n",
       "      <td>NaN</td>\n",
       "      <td>9.00</td>\n",
       "    </tr>\n",
       "    <tr>\n",
       "      <th>1.0</th>\n",
       "      <td>8.00</td>\n",
       "      <td>7.00</td>\n",
       "      <td>8.00</td>\n",
       "      <td>8.00</td>\n",
       "      <td>NaN</td>\n",
       "      <td>8.00</td>\n",
       "    </tr>\n",
       "    <tr>\n",
       "      <th rowspan=\"2\" valign=\"top\">4</th>\n",
       "      <th>0.0</th>\n",
       "      <td>10.00</td>\n",
       "      <td>20.00</td>\n",
       "      <td>15.00</td>\n",
       "      <td>10.00</td>\n",
       "      <td>10.000</td>\n",
       "      <td>10.00</td>\n",
       "    </tr>\n",
       "    <tr>\n",
       "      <th>1.0</th>\n",
       "      <td>7.00</td>\n",
       "      <td>25.00</td>\n",
       "      <td>15.00</td>\n",
       "      <td>10.00</td>\n",
       "      <td>10.000</td>\n",
       "      <td>10.00</td>\n",
       "    </tr>\n",
       "    <tr>\n",
       "      <th rowspan=\"2\" valign=\"top\">5</th>\n",
       "      <th>0.0</th>\n",
       "      <td>8.00</td>\n",
       "      <td>7.00</td>\n",
       "      <td>7.00</td>\n",
       "      <td>8.00</td>\n",
       "      <td>NaN</td>\n",
       "      <td>8.00</td>\n",
       "    </tr>\n",
       "    <tr>\n",
       "      <th>1.0</th>\n",
       "      <td>7.00</td>\n",
       "      <td>7.00</td>\n",
       "      <td>7.00</td>\n",
       "      <td>8.00</td>\n",
       "      <td>NaN</td>\n",
       "      <td>8.00</td>\n",
       "    </tr>\n",
       "  </tbody>\n",
       "</table>\n",
       "</div>"
      ],
      "text/plain": [
       "               amb   attr    fun  intel    shar   sinc\n",
       "type gender                                           \n",
       "1    0.0     12.77  16.98  17.31  20.00  15.000  18.00\n",
       "     1.0     10.00  25.00  18.00  20.00  10.000  16.28\n",
       "2    0.0     10.00  30.00  20.00  10.00  14.645  10.00\n",
       "     1.0     15.00  20.00  17.78  15.47  10.000  15.00\n",
       "3    0.0      8.00   7.00   8.00   8.00     NaN   9.00\n",
       "     1.0      8.00   7.00   8.00   8.00     NaN   8.00\n",
       "4    0.0     10.00  20.00  15.00  10.00  10.000  10.00\n",
       "     1.0      7.00  25.00  15.00  10.00  10.000  10.00\n",
       "5    0.0      8.00   7.00   7.00   8.00     NaN   8.00\n",
       "     1.0      7.00   7.00   7.00   8.00     NaN   8.00"
      ]
     },
     "execution_count": 312,
     "metadata": {},
     "output_type": "execute_result"
    }
   ],
   "source": [
    "# 1 - What do you look for in the opposite sex?\n",
    "# 2 - What do you think the opposite sex looks for in a date?\n",
    "# 3 - How do you think you measure up?\n",
    "# 4 - What do you think MOST of your fellow men/women look for in the opposite sex?\n",
    "# 5 - How do you think others perceive you? \n",
    "\n",
    "\n",
    "cols = ['amb', 'attr', 'fun', 'intel', 'shar', 'sinc']\n",
    "df2.groupby(['type','gender'])[cols].median()"
   ]
  }
 ],
 "metadata": {
  "anaconda-cloud": {},
  "kernelspec": {
   "display_name": "Python [default]",
   "language": "python",
   "name": "python2"
  },
  "language_info": {
   "codemirror_mode": {
    "name": "ipython",
    "version": 2
   },
   "file_extension": ".py",
   "mimetype": "text/x-python",
   "name": "python",
   "nbconvert_exporter": "python",
   "pygments_lexer": "ipython2",
   "version": "2.7.12"
  }
 },
 "nbformat": 4,
 "nbformat_minor": 1
}
